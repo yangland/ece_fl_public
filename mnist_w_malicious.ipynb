{
 "cells": [
  {
   "cell_type": "markdown",
   "id": "5794ad43-4546-4d84-82d5-4a0f252d61a1",
   "metadata": {},
   "source": [
    "# Adding malicious into the FL Avg, visualize the effects from malicious"
   ]
  },
  {
   "cell_type": "markdown",
   "id": "cebaa196-8bd3-417f-8f93-59bb1697d5c7",
   "metadata": {},
   "source": [
    "based on FoolsGold's code on malicious\n",
    "https://github.com/DistributedML/FoolsGold"
   ]
  },
  {
   "cell_type": "code",
   "execution_count": 150,
   "id": "88c57c8f-b8dc-4538-9f18-84179ff37dc3",
   "metadata": {},
   "outputs": [],
   "source": [
    "from pathlib import Path\n",
    "import os\n",
    "import numpy as np\n",
    "import pandas as pd\n",
    "import math"
   ]
  },
  {
   "cell_type": "code",
   "execution_count": 31,
   "id": "9056f67c-9053-41e2-824a-5b3ec771611d",
   "metadata": {},
   "outputs": [],
   "source": [
    "DATA_PATH = Path(\"data\")\n",
    "PATH = os.path.join(DATA_PATH, Path(\"mnist\"))"
   ]
  },
  {
   "cell_type": "markdown",
   "id": "07d5a893-19ec-4e16-8e67-8a7e66391d60",
   "metadata": {},
   "source": [
    "## Check the Mnist Data"
   ]
  },
  {
   "cell_type": "code",
   "execution_count": 32,
   "id": "fecdd797-0698-483b-8352-cf9218270f7a",
   "metadata": {},
   "outputs": [
    {
     "data": {
      "text/plain": [
       "'data\\\\mnist'"
      ]
     },
     "execution_count": 32,
     "metadata": {},
     "output_type": "execute_result"
    }
   ],
   "source": [
    "PATH"
   ]
  },
  {
   "cell_type": "code",
   "execution_count": 85,
   "id": "9717c2ff-2ed0-40eb-949d-6280bc5dcffa",
   "metadata": {},
   "outputs": [],
   "source": [
    "file_name = 'mnist_bad_1_7.npy'"
   ]
  },
  {
   "cell_type": "code",
   "execution_count": 86,
   "id": "793ab200-3064-468a-ae7b-eeeed3282541",
   "metadata": {},
   "outputs": [],
   "source": [
    "testdata = np.load(os.path.join(PATH, Path(file_name)))"
   ]
  },
  {
   "cell_type": "code",
   "execution_count": 87,
   "id": "ade06ada-9a74-4c91-ad16-ff6b9a1f3cee",
   "metadata": {},
   "outputs": [
    {
     "data": {
      "text/plain": [
       "(6742, 785)"
      ]
     },
     "execution_count": 87,
     "metadata": {},
     "output_type": "execute_result"
    }
   ],
   "source": [
    "testdata.shape"
   ]
  },
  {
   "cell_type": "code",
   "execution_count": 96,
   "id": "4683ef8f-87bf-40ca-a331-f0fe25b65964",
   "metadata": {},
   "outputs": [
    {
     "data": {
      "text/plain": [
       "array([[0.  , 0.  , 0.  , 0.  , 0.  , 0.  , 0.  , 0.  , 0.  , 0.  , 0.  , 0.  , 0.  , 0.  , 0.  , 0.  , 0.  , 0.  , 0.  , 0.  , 0.  , 0.  , 0.  , 0.  , 0.  , 0.  , 0.  , 0.  ],\n",
       "       [0.  , 0.  , 0.  , 0.  , 0.  , 0.  , 0.  , 0.  , 0.  , 0.  , 0.  , 0.  , 0.  , 0.  , 0.  , 0.  , 0.  , 0.  , 0.  , 0.  , 0.  , 0.  , 0.  , 0.  , 0.  , 0.  , 0.  , 0.  ],\n",
       "       [0.  , 0.  , 0.  , 0.  , 0.  , 0.  , 0.  , 0.  , 0.  , 0.  , 0.  , 0.  , 0.  , 0.  , 0.  , 0.  , 0.  , 0.  , 0.  , 0.  , 0.  , 0.  , 0.  , 0.  , 0.  , 0.  , 0.  , 0.  ],\n",
       "       [0.  , 0.  , 0.  , 0.  , 0.  , 0.  , 0.  , 0.  , 0.  , 0.  , 0.  , 0.  , 0.  , 0.  , 0.  , 0.  , 0.  , 0.  , 0.  , 0.  , 0.  , 0.  , 0.  , 0.  , 0.  , 0.  , 0.  , 0.  ],\n",
       "       [0.  , 0.  , 0.  , 0.  , 0.  , 0.  , 0.  , 0.  , 0.  , 0.  , 0.57, 1.98, 0.57, 0.  , 0.  , 0.  , 0.  , 0.  , 0.  , 0.  , 0.  , 0.  , 0.  , 0.  , 0.  , 0.  , 0.  , 0.  ],\n",
       "       [0.  , 0.  , 0.  , 0.  , 0.  , 0.  , 0.  , 0.  , 0.  , 0.  , 0.29, 1.98, 1.14, 0.  , 0.  , 0.  , 0.  , 0.  , 0.  , 0.  , 0.  , 0.  , 0.  , 0.  , 0.  , 0.  , 0.  , 0.  ],\n",
       "       [0.  , 0.  , 0.  , 0.  , 0.  , 0.  , 0.  , 0.  , 0.  , 0.  , 0.  , 1.7 , 2.26, 0.29, 0.  , 0.  , 0.  , 0.  , 0.  , 0.  , 0.  , 0.  , 0.  , 0.  , 0.  , 0.  , 0.  , 0.  ],\n",
       "       [0.  , 0.  , 0.  , 0.  , 0.  , 0.  , 0.  , 0.  , 0.  , 0.  , 0.  , 1.14, 2.55, 1.14, 0.  , 0.  , 0.  , 0.  , 0.  , 0.  , 0.  , 0.  , 0.  , 0.  , 0.  , 0.  , 0.  , 0.  ],\n",
       "       [0.  , 0.  , 0.  , 0.  , 0.  , 0.  , 0.  , 0.  , 0.  , 0.  , 0.  , 0.  , 2.26, 1.7 , 0.  , 0.  , 0.  , 0.  , 0.  , 0.  , 0.  , 0.  , 0.  , 0.  , 0.  , 0.  , 0.  , 0.  ],\n",
       "       [0.  , 0.  , 0.  , 0.  , 0.  , 0.  , 0.  , 0.  , 0.  , 0.  , 0.  , 0.  , 1.7 , 2.26, 0.29, 0.  , 0.  , 0.  , 0.  , 0.  , 0.  , 0.  , 0.  , 0.  , 0.  , 0.  , 0.  , 0.  ],\n",
       "       [0.  , 0.  , 0.  , 0.  , 0.  , 0.  , 0.  , 0.  , 0.  , 0.  , 0.  , 0.  , 0.86, 2.55, 0.86, 0.  , 0.  , 0.  , 0.  , 0.  , 0.  , 0.  , 0.  , 0.  , 0.  , 0.  , 0.  , 0.  ],\n",
       "       [0.  , 0.  , 0.  , 0.  , 0.  , 0.  , 0.  , 0.  , 0.  , 0.  , 0.  , 0.  , 0.57, 2.55, 1.41, 0.  , 0.  , 0.  , 0.  , 0.  , 0.  , 0.  , 0.  , 0.  , 0.  , 0.  , 0.  , 0.  ],\n",
       "       [0.  , 0.  , 0.  , 0.  , 0.  , 0.  , 0.  , 0.  , 0.  , 0.  , 0.  , 0.  , 0.  , 2.55, 1.7 , 0.  , 0.  , 0.  , 0.  , 0.  , 0.  , 0.  , 0.  , 0.  , 0.  , 0.  , 0.  , 0.  ],\n",
       "       [0.  , 0.  , 0.  , 0.  , 0.  , 0.  , 0.  , 0.  , 0.  , 0.  , 0.  , 0.  , 0.  , 2.26, 1.7 , 0.  , 0.  , 0.  , 0.  , 0.  , 0.  , 0.  , 0.  , 0.  , 0.  , 0.  , 0.  , 0.  ],\n",
       "       [0.  , 0.  , 0.  , 0.  , 0.  , 0.  , 0.  , 0.  , 0.  , 0.  , 0.  , 0.  , 0.  , 1.7 , 2.26, 0.  , 0.  , 0.  , 0.  , 0.  , 0.  , 0.  , 0.  , 0.  , 0.  , 0.  , 0.  , 0.  ],\n",
       "       [0.  , 0.  , 0.  , 0.  , 0.  , 0.  , 0.  , 0.  , 0.  , 0.  , 0.  , 0.  , 0.  , 1.41, 2.55, 0.86, 0.  , 0.  , 0.  , 0.  , 0.  , 0.  , 0.  , 0.  , 0.  , 0.  , 0.  , 0.  ],\n",
       "       [0.  , 0.  , 0.  , 0.  , 0.  , 0.  , 0.  , 0.  , 0.  , 0.  , 0.  , 0.  , 0.  , 0.86, 2.55, 1.41, 0.  , 0.  , 0.  , 0.  , 0.  , 0.  , 0.  , 0.  , 0.  , 0.  , 0.  , 0.  ],\n",
       "       [0.  , 0.  , 0.  , 0.  , 0.  , 0.  , 0.  , 0.  , 0.  , 0.  , 0.  , 0.  , 0.  , 0.29, 2.55, 1.7 , 0.  , 0.  , 0.  , 0.  , 0.  , 0.  , 0.  , 0.  , 0.  , 0.  , 0.  , 0.  ],\n",
       "       [0.  , 0.  , 0.  , 0.  , 0.  , 0.  , 0.  , 0.  , 0.  , 0.  , 0.  , 0.  , 0.  , 0.  , 1.98, 1.98, 0.  , 0.  , 0.  , 0.  , 0.  , 0.  , 0.  , 0.  , 0.  , 0.  , 0.  , 0.  ],\n",
       "       [0.  , 0.  , 0.  , 0.  , 0.  , 0.  , 0.  , 0.  , 0.  , 0.  , 0.  , 0.  , 0.  , 0.  , 1.41, 2.55, 0.29, 0.  , 0.  , 0.  , 0.  , 0.  , 0.  , 0.  , 0.  , 0.  , 0.  , 0.  ],\n",
       "       [0.  , 0.  , 0.  , 0.  , 0.  , 0.  , 0.  , 0.  , 0.  , 0.  , 0.  , 0.  , 0.  , 0.  , 0.86, 2.55, 1.14, 0.  , 0.  , 0.  , 0.  , 0.  , 0.  , 0.  , 0.  , 0.  , 0.  , 0.  ],\n",
       "       [0.  , 0.  , 0.  , 0.  , 0.  , 0.  , 0.  , 0.  , 0.  , 0.  , 0.  , 0.  , 0.  , 0.  , 0.86, 2.55, 1.7 , 0.  , 0.  , 0.  , 0.  , 0.  , 0.  , 0.  , 0.  , 0.  , 0.  , 0.  ],\n",
       "       [0.  , 0.  , 0.  , 0.  , 0.  , 0.  , 0.  , 0.  , 0.  , 0.  , 0.  , 0.  , 0.  , 0.  , 0.29, 2.55, 2.26, 0.57, 0.  , 0.  , 0.  , 0.  , 0.  , 0.  , 0.  , 0.  , 0.  , 0.  ],\n",
       "       [0.  , 0.  , 0.  , 0.  , 0.  , 0.  , 0.  , 0.  , 0.  , 0.  , 0.  , 0.  , 0.  , 0.  , 0.  , 1.14, 2.26, 0.29, 0.  , 0.  , 0.  , 0.  , 0.  , 0.  , 0.  , 0.  , 0.  , 0.  ],\n",
       "       [0.  , 0.  , 0.  , 0.  , 0.  , 0.  , 0.  , 0.  , 0.  , 0.  , 0.  , 0.  , 0.  , 0.  , 0.  , 0.  , 0.  , 0.  , 0.  , 0.  , 0.  , 0.  , 0.  , 0.  , 0.  , 0.  , 0.  , 0.  ],\n",
       "       [0.  , 0.  , 0.  , 0.  , 0.  , 0.  , 0.  , 0.  , 0.  , 0.  , 0.  , 0.  , 0.  , 0.  , 0.  , 0.  , 0.  , 0.  , 0.  , 0.  , 0.  , 0.  , 0.  , 0.  , 0.  , 0.  , 0.  , 0.  ],\n",
       "       [0.  , 0.  , 0.  , 0.  , 0.  , 0.  , 0.  , 0.  , 0.  , 0.  , 0.  , 0.  , 0.  , 0.  , 0.  , 0.  , 0.  , 0.  , 0.  , 0.  , 0.  , 0.  , 0.  , 0.  , 0.  , 0.  , 0.  , 0.  ],\n",
       "       [0.  , 0.  , 0.  , 0.  , 0.  , 0.  , 0.  , 0.  , 0.  , 0.  , 0.  , 0.  , 0.  , 0.  , 0.  , 0.  , 0.  , 0.  , 0.  , 0.  , 0.  , 0.  , 0.  , 0.  , 0.  , 0.  , 0.  , 0.  ]])"
      ]
     },
     "execution_count": 96,
     "metadata": {},
     "output_type": "execute_result"
    }
   ],
   "source": [
    "np.set_printoptions(linewidth=np.inf)\n",
    "testdata[6001][:784].reshape(28, 28)"
   ]
  },
  {
   "cell_type": "code",
   "execution_count": 98,
   "id": "ba9d3305-0545-4c93-955c-3f8fbeb1fd25",
   "metadata": {},
   "outputs": [
    {
     "name": "stdout",
     "output_type": "stream",
     "text": [
      "7.0\n"
     ]
    }
   ],
   "source": [
    "print(testdata[i][-1])"
   ]
  },
  {
   "cell_type": "code",
   "execution_count": 99,
   "id": "d3991062-20fd-406f-8722-7c831027a93e",
   "metadata": {},
   "outputs": [],
   "source": [
    "# mnist0.npy (5923, 785)\n",
    "# mnist7.npy (6742, 785) # lable fliping, data(1) label(7)\n",
    "# mnist_uniform_0.npy (6000, 785)\n",
    "# mnist_train.npy (60000,785)\n",
    "# mnist_test.npy (10000, 785)"
   ]
  },
  {
   "cell_type": "code",
   "execution_count": 111,
   "id": "33875bf3-2466-430f-a1af-64208848c0b8",
   "metadata": {},
   "outputs": [],
   "source": [
    "train_data = np.load(os.path.join(PATH, Path(\"mnist_train.npy\")))"
   ]
  },
  {
   "cell_type": "markdown",
   "id": "7d41bf9c-c0ae-4932-8519-ede404bc1060",
   "metadata": {},
   "source": [
    "## Adjustable parameters"
   ]
  },
  {
   "cell_type": "code",
   "execution_count": 144,
   "id": "296ca420-3175-40c8-9477-cbd9a104fc02",
   "metadata": {},
   "outputs": [],
   "source": [
    "number_of_clients = 40\n",
    "learning_rate = 0.01\n",
    "numEpoch = 10 # 4\n",
    "batch_size = 32\n",
    "momentum = 0.9\n",
    "dirichlet_alpha = 0.2\n",
    "num_classes = 10\n",
    "train_amount = 5400\n",
    "\n",
    "malicious_attack = False\n",
    "number_of_malicious = 10"
   ]
  },
  {
   "cell_type": "code",
   "execution_count": 120,
   "id": "92e549f8-159a-4bdf-b132-ea939719895a",
   "metadata": {},
   "outputs": [],
   "source": [
    "# create the dictionary for clients Honest/Malicious:\n",
    "all_clients = {}\n",
    "malicious_names = np.random.randint(0, number_of_clients, number_of_malicious)\n",
    "for i in range(number_of_clients):\n",
    "    if i in malicious_names:\n",
    "        all_clients['client'+str(i)] = 'Malicious'\n",
    "    else:\n",
    "        all_clients['client'+str(i)] = 'Honest'"
   ]
  },
  {
   "cell_type": "code",
   "execution_count": 121,
   "id": "57a19382-378b-4c56-80ae-c397a37cecf7",
   "metadata": {},
   "outputs": [],
   "source": [
    "# create IID or Non-IID dataset for all clients's training"
   ]
  },
  {
   "cell_type": "code",
   "execution_count": 122,
   "id": "224a549c-c161-4c78-930f-a015ef5245b1",
   "metadata": {},
   "outputs": [],
   "source": [
    "def split_and_shuffle_labels(y_data, seed, num_classes):\n",
    "    y_data=pd.DataFrame(y_data,columns=[\"labels\"]) # create DF on all y values\n",
    "    y_data[\"i\"]=np.arange(len(y_data)) # create a global index\n",
    "    label_dict = dict()\n",
    "    for i in range(num_classes):\n",
    "        var_name=\"label\" + str(i)\n",
    "        label_info=y_data[y_data[\"labels\"]==i] # create an index for each class (only for MNIST)\n",
    "        np.random.seed(seed)\n",
    "        label_info=np.random.permutation(label_info)\n",
    "        label_info=pd.DataFrame(label_info, columns=[\"labels\",\"i\"])\n",
    "        label_dict.update({var_name: label_info })\n",
    "    return label_dict"
   ]
  },
  {
   "cell_type": "code",
   "execution_count": 123,
   "id": "9c046bf1-14c8-4431-946d-e76d3656d5de",
   "metadata": {},
   "outputs": [],
   "source": [
    "x_train = train_data[:, :-1]\n",
    "y_train = train_data[:, -1]"
   ]
  },
  {
   "cell_type": "code",
   "execution_count": 170,
   "id": "e6aaf701-2bf5-48af-bb55-48cf3fe9f115",
   "metadata": {},
   "outputs": [
    {
     "data": {
      "text/plain": [
       "array([4, 9, 2, ..., 2, 1, 5])"
      ]
     },
     "execution_count": 170,
     "metadata": {},
     "output_type": "execute_result"
    }
   ],
   "source": [
    "y_train.astype(int)"
   ]
  },
  {
   "cell_type": "code",
   "execution_count": 171,
   "id": "8cf0360e-bc87-4eef-bad1-0cacf32dbb25",
   "metadata": {},
   "outputs": [],
   "source": [
    "unique, counts = np.unique(y_train, return_counts=True)"
   ]
  },
  {
   "cell_type": "code",
   "execution_count": 172,
   "id": "79268d0d-c3e4-48cd-8b26-0a10dc520ff8",
   "metadata": {},
   "outputs": [
    {
     "data": {
      "text/plain": [
       "{0.0: 5923,\n",
       " 1.0: 6742,\n",
       " 2.0: 5958,\n",
       " 3.0: 6131,\n",
       " 4.0: 5842,\n",
       " 5.0: 5421,\n",
       " 6.0: 5918,\n",
       " 7.0: 6265,\n",
       " 8.0: 5851,\n",
       " 9.0: 5949}"
      ]
     },
     "execution_count": 172,
     "metadata": {},
     "output_type": "execute_result"
    }
   ],
   "source": [
    "# class distribution in train data\n",
    "dict(zip(unique, counts))"
   ]
  },
  {
   "cell_type": "code",
   "execution_count": 173,
   "id": "335ef549-fe8e-4cc4-a933-29ca1308a0b0",
   "metadata": {},
   "outputs": [],
   "source": [
    "# x_train[1].reshape(28, 28)"
   ]
  },
  {
   "cell_type": "code",
   "execution_count": 174,
   "id": "57ca9226-96d0-4f00-b153-f416589fc50f",
   "metadata": {},
   "outputs": [],
   "source": [
    "label_dict_train=split_and_shuffle_labels(y_data=y_train, seed=1, num_classes = num_classes) "
   ]
  },
  {
   "cell_type": "code",
   "execution_count": 175,
   "id": "4dbe48fb-684a-4212-9202-4edb7b4b401d",
   "metadata": {},
   "outputs": [
    {
     "data": {
      "text/html": [
       "<div>\n",
       "<style scoped>\n",
       "    .dataframe tbody tr th:only-of-type {\n",
       "        vertical-align: middle;\n",
       "    }\n",
       "\n",
       "    .dataframe tbody tr th {\n",
       "        vertical-align: top;\n",
       "    }\n",
       "\n",
       "    .dataframe thead th {\n",
       "        text-align: right;\n",
       "    }\n",
       "</style>\n",
       "<table border=\"1\" class=\"dataframe\">\n",
       "  <thead>\n",
       "    <tr style=\"text-align: right;\">\n",
       "      <th></th>\n",
       "      <th>labels</th>\n",
       "      <th>i</th>\n",
       "    </tr>\n",
       "  </thead>\n",
       "  <tbody>\n",
       "    <tr>\n",
       "      <th>0</th>\n",
       "      <td>7.0</td>\n",
       "      <td>51224.0</td>\n",
       "    </tr>\n",
       "    <tr>\n",
       "      <th>1</th>\n",
       "      <td>7.0</td>\n",
       "      <td>49821.0</td>\n",
       "    </tr>\n",
       "    <tr>\n",
       "      <th>2</th>\n",
       "      <td>7.0</td>\n",
       "      <td>55014.0</td>\n",
       "    </tr>\n",
       "    <tr>\n",
       "      <th>3</th>\n",
       "      <td>7.0</td>\n",
       "      <td>12442.0</td>\n",
       "    </tr>\n",
       "    <tr>\n",
       "      <th>4</th>\n",
       "      <td>7.0</td>\n",
       "      <td>29995.0</td>\n",
       "    </tr>\n",
       "    <tr>\n",
       "      <th>...</th>\n",
       "      <td>...</td>\n",
       "      <td>...</td>\n",
       "    </tr>\n",
       "    <tr>\n",
       "      <th>6260</th>\n",
       "      <td>7.0</td>\n",
       "      <td>8235.0</td>\n",
       "    </tr>\n",
       "    <tr>\n",
       "      <th>6261</th>\n",
       "      <td>7.0</td>\n",
       "      <td>49363.0</td>\n",
       "    </tr>\n",
       "    <tr>\n",
       "      <th>6262</th>\n",
       "      <td>7.0</td>\n",
       "      <td>37550.0</td>\n",
       "    </tr>\n",
       "    <tr>\n",
       "      <th>6263</th>\n",
       "      <td>7.0</td>\n",
       "      <td>2070.0</td>\n",
       "    </tr>\n",
       "    <tr>\n",
       "      <th>6264</th>\n",
       "      <td>7.0</td>\n",
       "      <td>49110.0</td>\n",
       "    </tr>\n",
       "  </tbody>\n",
       "</table>\n",
       "<p>6265 rows × 2 columns</p>\n",
       "</div>"
      ],
      "text/plain": [
       "      labels        i\n",
       "0        7.0  51224.0\n",
       "1        7.0  49821.0\n",
       "2        7.0  55014.0\n",
       "3        7.0  12442.0\n",
       "4        7.0  29995.0\n",
       "...      ...      ...\n",
       "6260     7.0   8235.0\n",
       "6261     7.0  49363.0\n",
       "6262     7.0  37550.0\n",
       "6263     7.0   2070.0\n",
       "6264     7.0  49110.0\n",
       "\n",
       "[6265 rows x 2 columns]"
      ]
     },
     "execution_count": 175,
     "metadata": {},
     "output_type": "execute_result"
    }
   ],
   "source": [
    "label_dict_train['label7']"
   ]
  },
  {
   "cell_type": "code",
   "execution_count": 176,
   "id": "267f2f73-4eab-4208-8b4b-66fb5f36fddb",
   "metadata": {},
   "outputs": [],
   "source": [
    "# amount = train_amount = 4500\n",
    "# label_dict_train = split_and_shuffle_labels(y_data=y_train, seed=1, amount=train_amount) \n",
    "def get_subsamples_indices_new(label_dict, number_of_clients, amount, num_classes, NonIID = False, alpha=0.9):\n",
    "    sample_dict= dict()\n",
    "    batch_size=int(math.floor(amount/number_of_clients)) # 45\n",
    "    \n",
    "    if NonIID == False:\n",
    "        for i in range(number_of_clients): # create 100 number_of_clients\n",
    "            sample_name=\"sample\"+str(i)\n",
    "            dumb=pd.DataFrame()\n",
    "            # IID distribution, each number class gets same samples\n",
    "            for j in range(num_classes): # for each number 0 - 9\n",
    "                label_name=str(\"label\")+str(j)\n",
    "                a=label_dict[label_name][i*batch_size:(i+1)*batch_size] # get 45 record of one number \n",
    "                dumb=pd.concat([dumb,a], axis=0) # concat total 10 of them 0 - 9\n",
    "            dumb.reset_index(drop=True, inplace=True)    \n",
    "            sample_dict.update({sample_name: dumb}) # each sample 450, 100 samples\n",
    "    else:\n",
    "        # based of dirichlet distribution\n",
    "        #print(\"label_dict\", label_dict)\n",
    "        image_nums = []\n",
    "        sample_dict = {}\n",
    "        \n",
    "        for i in range (number_of_clients):\n",
    "            sample_name=\"sample\"+str(i)\n",
    "            sample_dict.update({sample_name: pd.DataFrame()})\n",
    "        \n",
    "        for label in range (num_classes):\n",
    "            image_num = []\n",
    "            sampled_probabilities = amount * np.random.dirichlet(\n",
    "                np.array(number_of_clients * [alpha]))\n",
    "            class_label_len = len(label_dict[str(\"label\")+str(label)])\n",
    "            # print(\"class_label_len\", class_label_len)\n",
    "            \n",
    "            for sample in range(number_of_clients):\n",
    "                # print(\"sample\", sample)\n",
    "                dumb2 = pd.DataFrame()\n",
    "                no_imgs = int(round(sampled_probabilities[sample]))\n",
    "                label_name=str(\"label\")+str(label)\n",
    "\n",
    "                sampled_list = label_dict[label_name][:min(class_label_len, no_imgs)]\n",
    "                image_num.append(len(sampled_list))\n",
    "                dumb2=pd.concat([dumb2, sampled_list], axis=0)\n",
    "                \n",
    "                class_label_len = class_label_len - len(sampled_list)\n",
    "                # print(\"user\", user)\n",
    "                # print(\"no_imgs\", no_imgs)\n",
    "                # print(\"class_label_len\", class_label_len)\n",
    "                sample_name=\"sample\"+str(sample)\n",
    "                image_nums.append(image_num)\n",
    "                # print(\"dumb2\", dumb2)\n",
    "                # print(\"label_name\", label_name)\n",
    "                # print(\"[dumb[label_name]\", dumb[label_name])\n",
    "                #dumb.reset_index(drop=True, inplace=True)\n",
    "                sample_dict[sample_name] = pd.concat([sample_dict[sample_name], dumb2])\n",
    "        # self.draw_dirichlet_plot(10, number_of_clients,image_nums, alpha)\n",
    "    return sample_dict"
   ]
  },
  {
   "cell_type": "code",
   "execution_count": 177,
   "id": "94d1f22f-7348-4435-b240-3124f631ebeb",
   "metadata": {},
   "outputs": [],
   "source": [
    "def create_subsamples(sample_dict, x_data, y_data, x_name, y_name):\n",
    "    x_data_dict= dict()\n",
    "    y_data_dict= dict()\n",
    "    \n",
    "    for i in range(len(sample_dict)):  ### len(sample_dict)= number of samples 100\n",
    "        xname= x_name+str(i)\n",
    "        yname= y_name+str(i)\n",
    "        sample_name=\"sample\"+str(i)\n",
    "        \n",
    "        # use the global index to reconnect x and y\n",
    "        indices=np.sort(np.array(sample_dict[sample_name][\"i\"])) \n",
    "        \n",
    "        print(indices)\n",
    "        \n",
    "        x_info= x_data[indices,:]\n",
    "        x_data_dict.update({xname : x_info})\n",
    "        \n",
    "        y_info= y_data[indices]\n",
    "        y_data_dict.update({yname : y_info})\n",
    "        \n",
    "    return x_data_dict, y_data_dict"
   ]
  },
  {
   "cell_type": "code",
   "execution_count": 178,
   "id": "2516a04f-e237-47e0-b0c7-b1477fce0458",
   "metadata": {},
   "outputs": [],
   "source": [
    "sample_dict_train = get_subsamples_indices_new(label_dict=label_dict_train, number_of_clients=number_of_clients, amount=train_amount, num_classes=num_classes, NonIID=False, alpha = dirichlet_alpha)"
   ]
  },
  {
   "cell_type": "code",
   "execution_count": 179,
   "id": "2be44762-94a0-4556-83ec-f68854265fb2",
   "metadata": {},
   "outputs": [
    {
     "data": {
      "text/plain": [
       "0.0    135\n",
       "1.0    135\n",
       "2.0    135\n",
       "3.0    135\n",
       "4.0    135\n",
       "5.0    135\n",
       "6.0    135\n",
       "7.0    135\n",
       "8.0    135\n",
       "9.0    135\n",
       "Name: labels, dtype: int64"
      ]
     },
     "execution_count": 179,
     "metadata": {},
     "output_type": "execute_result"
    }
   ],
   "source": [
    "sample_dict_train['sample0']['labels'].value_counts()"
   ]
  },
  {
   "cell_type": "code",
   "execution_count": 180,
   "id": "81b7f6cd-1bca-486c-845f-a348176239aa",
   "metadata": {},
   "outputs": [
    {
     "data": {
      "text/html": [
       "<div>\n",
       "<style scoped>\n",
       "    .dataframe tbody tr th:only-of-type {\n",
       "        vertical-align: middle;\n",
       "    }\n",
       "\n",
       "    .dataframe tbody tr th {\n",
       "        vertical-align: top;\n",
       "    }\n",
       "\n",
       "    .dataframe thead th {\n",
       "        text-align: right;\n",
       "    }\n",
       "</style>\n",
       "<table border=\"1\" class=\"dataframe\">\n",
       "  <thead>\n",
       "    <tr style=\"text-align: right;\">\n",
       "      <th></th>\n",
       "      <th>labels</th>\n",
       "      <th>i</th>\n",
       "    </tr>\n",
       "  </thead>\n",
       "  <tbody>\n",
       "    <tr>\n",
       "      <th>0</th>\n",
       "      <td>0.0</td>\n",
       "      <td>2944.0</td>\n",
       "    </tr>\n",
       "    <tr>\n",
       "      <th>1</th>\n",
       "      <td>0.0</td>\n",
       "      <td>26967.0</td>\n",
       "    </tr>\n",
       "    <tr>\n",
       "      <th>2</th>\n",
       "      <td>0.0</td>\n",
       "      <td>41509.0</td>\n",
       "    </tr>\n",
       "    <tr>\n",
       "      <th>3</th>\n",
       "      <td>0.0</td>\n",
       "      <td>53492.0</td>\n",
       "    </tr>\n",
       "    <tr>\n",
       "      <th>4</th>\n",
       "      <td>0.0</td>\n",
       "      <td>15463.0</td>\n",
       "    </tr>\n",
       "    <tr>\n",
       "      <th>...</th>\n",
       "      <td>...</td>\n",
       "      <td>...</td>\n",
       "    </tr>\n",
       "    <tr>\n",
       "      <th>1345</th>\n",
       "      <td>9.0</td>\n",
       "      <td>48567.0</td>\n",
       "    </tr>\n",
       "    <tr>\n",
       "      <th>1346</th>\n",
       "      <td>9.0</td>\n",
       "      <td>54555.0</td>\n",
       "    </tr>\n",
       "    <tr>\n",
       "      <th>1347</th>\n",
       "      <td>9.0</td>\n",
       "      <td>34142.0</td>\n",
       "    </tr>\n",
       "    <tr>\n",
       "      <th>1348</th>\n",
       "      <td>9.0</td>\n",
       "      <td>7422.0</td>\n",
       "    </tr>\n",
       "    <tr>\n",
       "      <th>1349</th>\n",
       "      <td>9.0</td>\n",
       "      <td>54238.0</td>\n",
       "    </tr>\n",
       "  </tbody>\n",
       "</table>\n",
       "<p>1350 rows × 2 columns</p>\n",
       "</div>"
      ],
      "text/plain": [
       "      labels        i\n",
       "0        0.0   2944.0\n",
       "1        0.0  26967.0\n",
       "2        0.0  41509.0\n",
       "3        0.0  53492.0\n",
       "4        0.0  15463.0\n",
       "...      ...      ...\n",
       "1345     9.0  48567.0\n",
       "1346     9.0  54555.0\n",
       "1347     9.0  34142.0\n",
       "1348     9.0   7422.0\n",
       "1349     9.0  54238.0\n",
       "\n",
       "[1350 rows x 2 columns]"
      ]
     },
     "execution_count": 180,
     "metadata": {},
     "output_type": "execute_result"
    }
   ],
   "source": [
    "sample_dict_train['sample0']"
   ]
  },
  {
   "cell_type": "code",
   "execution_count": 182,
   "id": "53d5b10a-80bd-4b4d-980e-2e23d9839ea5",
   "metadata": {},
   "outputs": [
    {
     "name": "stdout",
     "output_type": "stream",
     "text": [
      "[   67.    77.   161. ... 59817. 59968. 59993.]\n"
     ]
    },
    {
     "ename": "IndexError",
     "evalue": "arrays used as indices must be of integer (or boolean) type",
     "output_type": "error",
     "traceback": [
      "\u001b[1;31m---------------------------------------------------------------------------\u001b[0m",
      "\u001b[1;31mIndexError\u001b[0m                                Traceback (most recent call last)",
      "\u001b[1;32m~\\AppData\\Local\\Temp\\ipykernel_8048\\2596967804.py\u001b[0m in \u001b[0;36m<module>\u001b[1;34m\u001b[0m\n\u001b[1;32m----> 1\u001b[1;33m \u001b[0mx_train_dict\u001b[0m\u001b[1;33m,\u001b[0m \u001b[0my_train_dict\u001b[0m \u001b[1;33m=\u001b[0m \u001b[0mcreate_subsamples\u001b[0m\u001b[1;33m(\u001b[0m\u001b[0msample_dict\u001b[0m\u001b[1;33m=\u001b[0m\u001b[0msample_dict_train\u001b[0m\u001b[1;33m,\u001b[0m \u001b[0mx_data\u001b[0m\u001b[1;33m=\u001b[0m\u001b[0mx_train\u001b[0m\u001b[1;33m,\u001b[0m \u001b[0my_data\u001b[0m\u001b[1;33m=\u001b[0m\u001b[0my_train\u001b[0m\u001b[1;33m,\u001b[0m \u001b[0mx_name\u001b[0m\u001b[1;33m=\u001b[0m\u001b[1;34m\"x_train\"\u001b[0m\u001b[1;33m,\u001b[0m \u001b[0my_name\u001b[0m\u001b[1;33m=\u001b[0m\u001b[1;34m\"y_train\"\u001b[0m\u001b[1;33m)\u001b[0m\u001b[1;33m\u001b[0m\u001b[1;33m\u001b[0m\u001b[0m\n\u001b[0m",
      "\u001b[1;32m~\\AppData\\Local\\Temp\\ipykernel_8048\\1412136637.py\u001b[0m in \u001b[0;36mcreate_subsamples\u001b[1;34m(sample_dict, x_data, y_data, x_name, y_name)\u001b[0m\n\u001b[0;32m     13\u001b[0m         \u001b[0mprint\u001b[0m\u001b[1;33m(\u001b[0m\u001b[0mindices\u001b[0m\u001b[1;33m)\u001b[0m\u001b[1;33m\u001b[0m\u001b[1;33m\u001b[0m\u001b[0m\n\u001b[0;32m     14\u001b[0m \u001b[1;33m\u001b[0m\u001b[0m\n\u001b[1;32m---> 15\u001b[1;33m         \u001b[0mx_info\u001b[0m\u001b[1;33m=\u001b[0m \u001b[0mx_data\u001b[0m\u001b[1;33m[\u001b[0m\u001b[0mindices\u001b[0m\u001b[1;33m,\u001b[0m\u001b[1;33m:\u001b[0m\u001b[1;33m]\u001b[0m\u001b[1;33m\u001b[0m\u001b[1;33m\u001b[0m\u001b[0m\n\u001b[0m\u001b[0;32m     16\u001b[0m         \u001b[0mx_data_dict\u001b[0m\u001b[1;33m.\u001b[0m\u001b[0mupdate\u001b[0m\u001b[1;33m(\u001b[0m\u001b[1;33m{\u001b[0m\u001b[0mxname\u001b[0m \u001b[1;33m:\u001b[0m \u001b[0mx_info\u001b[0m\u001b[1;33m}\u001b[0m\u001b[1;33m)\u001b[0m\u001b[1;33m\u001b[0m\u001b[1;33m\u001b[0m\u001b[0m\n\u001b[0;32m     17\u001b[0m \u001b[1;33m\u001b[0m\u001b[0m\n",
      "\u001b[1;31mIndexError\u001b[0m: arrays used as indices must be of integer (or boolean) type"
     ]
    }
   ],
   "source": [
    "x_train_dict, y_train_dict = create_subsamples(sample_dict=sample_dict_train, x_data=x_train, y_data=y_train, x_name=\"x_train\", y_name=\"y_train\")"
   ]
  },
  {
   "cell_type": "code",
   "execution_count": null,
   "id": "b9843712-dfa6-4bd7-9be5-4e8e1118446a",
   "metadata": {},
   "outputs": [],
   "source": []
  }
 ],
 "metadata": {
  "kernelspec": {
   "display_name": "Python 3 (ipykernel)",
   "language": "python",
   "name": "python3"
  },
  "language_info": {
   "codemirror_mode": {
    "name": "ipython",
    "version": 3
   },
   "file_extension": ".py",
   "mimetype": "text/x-python",
   "name": "python",
   "nbconvert_exporter": "python",
   "pygments_lexer": "ipython3",
   "version": "3.7.16"
  }
 },
 "nbformat": 4,
 "nbformat_minor": 5
}
