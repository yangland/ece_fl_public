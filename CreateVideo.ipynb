{
 "cells": [
  {
   "cell_type": "code",
   "execution_count": 72,
   "id": "46a2755e-6266-4b35-9c9a-5124040c9c2a",
   "metadata": {},
   "outputs": [],
   "source": [
    "# create video\n",
    "from moviepy.editor import *"
   ]
  },
  {
   "cell_type": "code",
   "execution_count": 79,
   "id": "6d2f0daa-0024-4ecf-83e1-164a4abd5be0",
   "metadata": {},
   "outputs": [],
   "source": [
    "path = \"Plots\\Saved_Exps\\\\fc3_cos_iid_mFalse\""
   ]
  },
  {
   "cell_type": "code",
   "execution_count": 80,
   "id": "2b7dc3ba-3c94-498d-a0ea-1aaaa4926489",
   "metadata": {},
   "outputs": [],
   "source": [
    "def images_to_video(image_folder_path: str, fps, extension:str, video_name:str, output_format:str):\n",
    "    \n",
    "    import os\n",
    "    import moviepy.video.io.ImageSequenceClip\n",
    "    \n",
    "    images = [image_folder_path+'/'+img for img in os.listdir(image_folder_path) if img.endswith(extension)]\n",
    "    images.sort(key=lambda s: os.path.getmtime(os.path.join( s)))\n",
    "    \n",
    "    # print(images)\n",
    "    movie_clip = moviepy.video.io.ImageSequenceClip.ImageSequenceClip(images, fps)\n",
    "    movie_clip.write_videofile(image_folder_path+'/'+video_name+output_format,codec=\"libx264\")"
   ]
  },
  {
   "cell_type": "code",
   "execution_count": 81,
   "id": "8e0af382-0b17-48eb-af40-e4dbc1630c50",
   "metadata": {},
   "outputs": [
    {
     "name": "stdout",
     "output_type": "stream",
     "text": [
      "Moviepy - Building video Plots\\Saved_Exps\\fc3_cos_iid_mFalse/video.mp4.\n",
      "Moviepy - Writing video Plots\\Saved_Exps\\fc3_cos_iid_mFalse/video.mp4\n",
      "\n"
     ]
    },
    {
     "name": "stderr",
     "output_type": "stream",
     "text": [
      "                                                                                                                       \r"
     ]
    },
    {
     "name": "stdout",
     "output_type": "stream",
     "text": [
      "Moviepy - Done !\n",
      "Moviepy - video ready Plots\\Saved_Exps\\fc3_cos_iid_mFalse/video.mp4\n"
     ]
    }
   ],
   "source": [
    "images_to_video(path, 6, \".png\", \"video\", \".mp4\")"
   ]
  },
  {
   "cell_type": "code",
   "execution_count": null,
   "id": "18194d8c-2344-4387-9e88-3e5915e588f1",
   "metadata": {},
   "outputs": [],
   "source": [
    "# images_to_video(\"Plots/\" + \"fc1_18_106\", 24, \".png\", \"fc1_18_106\", \".mp4\")"
   ]
  },
  {
   "cell_type": "code",
   "execution_count": null,
   "id": "191d2c46-1cb0-4b33-bb5b-f27e9d56e3ac",
   "metadata": {},
   "outputs": [],
   "source": [
    "# sample_t"
   ]
  },
  {
   "cell_type": "code",
   "execution_count": null,
   "id": "9fc75599-dc10-4c78-a641-797bacb9f03e",
   "metadata": {},
   "outputs": [],
   "source": [
    "# for s in sample_t:\n",
    "#     node_name = s[0]+\"_\"+ str(s[1][0])+\"_\"+str(s[1][1])\n",
    "#     images_to_video(\"Plots/\" + str(node_name), 24, \".png\", node_name, \".mp4\")"
   ]
  },
  {
   "cell_type": "code",
   "execution_count": null,
   "id": "6f3d4b2e-3071-4207-bf66-a4bb18fb6df1",
   "metadata": {},
   "outputs": [],
   "source": [
    "# node_name = \"fc2_21_67\""
   ]
  },
  {
   "cell_type": "code",
   "execution_count": 88,
   "id": "f3fe98e7-c6ba-4768-92df-1f43b110a937",
   "metadata": {},
   "outputs": [
    {
     "name": "stdout",
     "output_type": "stream",
     "text": [
      "Moviepy - Building video fc2_21_67.mp4.\n",
      "Moviepy - Writing video fc2_21_67.mp4\n",
      "\n"
     ]
    },
    {
     "name": "stderr",
     "output_type": "stream",
     "text": [
      "                                                                                                                       "
     ]
    },
    {
     "name": "stdout",
     "output_type": "stream",
     "text": [
      "Moviepy - Done !\n",
      "Moviepy - video ready fc2_21_67.mp4\n"
     ]
    },
    {
     "name": "stderr",
     "output_type": "stream",
     "text": [
      "\r"
     ]
    }
   ],
   "source": [
    "# images_to_video(\"Plots/\" + str(node_name), 24, \".png\", node_name, \".mp4\")"
   ]
  }
 ],
 "metadata": {
  "kernelspec": {
   "display_name": "Python 3 (ipykernel)",
   "language": "python",
   "name": "python3"
  },
  "language_info": {
   "codemirror_mode": {
    "name": "ipython",
    "version": 3
   },
   "file_extension": ".py",
   "mimetype": "text/x-python",
   "name": "python",
   "nbconvert_exporter": "python",
   "pygments_lexer": "ipython3",
   "version": "3.7.16"
  }
 },
 "nbformat": 4,
 "nbformat_minor": 5
}
