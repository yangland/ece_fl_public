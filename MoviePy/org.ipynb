{
 "cells": [
  {
   "cell_type": "code",
   "execution_count": 2,
   "id": "80654b7a-65ae-4c82-a75c-f3d137ce2a02",
   "metadata": {},
   "outputs": [
    {
     "name": "stdout",
     "output_type": "stream",
     "text": [
      "Moviepy - Building video video-output.mp4.\n",
      "Moviepy - Writing video video-output.mp4\n",
      "\n"
     ]
    },
    {
     "name": "stderr",
     "output_type": "stream",
     "text": [
      "                                                                                                                       \r"
     ]
    },
    {
     "name": "stdout",
     "output_type": "stream",
     "text": [
      "Moviepy - Done !\n",
      "Moviepy - video ready video-output.mp4\n"
     ]
    }
   ],
   "source": [
    "from moviepy.editor import *\n",
    "\n",
    "clips = []\n",
    "clip1 =  ImageClip('images/image1.jpg').set_duration(1)\n",
    "clip2 =  ImageClip('images/image2.jpg').set_duration(2)\n",
    "clip3 =  ImageClip('images/image3.jpg').set_duration(1)\n",
    "clips.append(clip1)\n",
    "clips.append(clip2)\n",
    "clips.append(clip3)\n",
    "\n",
    "video_clip = concatenate_videoclips(clips, method='compose')\n",
    "video_clip.write_videofile(\"video-output.mp4\", fps=30, remove_temp=True, codec=\"libx264\",  audio_codec=\"aac\")"
   ]
  },
  {
   "cell_type": "code",
   "execution_count": 8,
   "id": "bcd9f320-0da5-4caa-88de-8160191fd954",
   "metadata": {},
   "outputs": [],
   "source": [
    "def images_to_video(image_folder_path: str, fps, extension:str, video_name:str, output_format:str):\n",
    "    \n",
    "    import os\n",
    "    import moviepy.video.io.ImageSequenceClip\n",
    "    \n",
    "    images = [image_folder_path+'/'+img for img in os.listdir(image_folder_path) if img.endswith(extension)]\n",
    "    movie_clip = moviepy.video.io.ImageSequenceClip.ImageSequenceClip(images, fps)\n",
    "    movie_clip.write_videofile(video_name+output_format,codec=\"libx264\")"
   ]
  },
  {
   "cell_type": "code",
   "execution_count": 10,
   "id": "b63add54-7c58-4050-a198-8dba8f95ca0e",
   "metadata": {},
   "outputs": [
    {
     "name": "stdout",
     "output_type": "stream",
     "text": [
      "Moviepy - Building video test.mp4.\n",
      "Moviepy - Writing video test.mp4\n",
      "\n"
     ]
    },
    {
     "name": "stderr",
     "output_type": "stream",
     "text": [
      "                                                                                                                       "
     ]
    },
    {
     "name": "stdout",
     "output_type": "stream",
     "text": [
      "Moviepy - Done !\n",
      "Moviepy - video ready test.mp4\n"
     ]
    },
    {
     "name": "stderr",
     "output_type": "stream",
     "text": [
      "\r"
     ]
    }
   ],
   "source": [
    "images_to_video(\"images\", 1, \".png\", \"test\", \".mp4\")"
   ]
  },
  {
   "cell_type": "code",
   "execution_count": null,
   "id": "5ddee888-4641-4864-9d12-ca565afcacef",
   "metadata": {},
   "outputs": [],
   "source": []
  }
 ],
 "metadata": {
  "kernelspec": {
   "display_name": "Python 3 (ipykernel)",
   "language": "python",
   "name": "python3"
  },
  "language_info": {
   "codemirror_mode": {
    "name": "ipython",
    "version": 3
   },
   "file_extension": ".py",
   "mimetype": "text/x-python",
   "name": "python",
   "nbconvert_exporter": "python",
   "pygments_lexer": "ipython3",
   "version": "3.7.16"
  }
 },
 "nbformat": 4,
 "nbformat_minor": 5
}
