{
 "cells": [
  {
   "cell_type": "code",
   "execution_count": 3,
   "id": "f9ea6a55-4958-4eeb-bfcc-e6625055611e",
   "metadata": {},
   "outputs": [],
   "source": [
    "# entripy for discrete classes"
   ]
  },
  {
   "cell_type": "code",
   "execution_count": 7,
   "id": "0692bced-1110-43b9-a089-821636cbf9f6",
   "metadata": {},
   "outputs": [],
   "source": [
    "import numpy as np\n",
    "from scipy.stats import entropy\n",
    "from math import log, e\n",
    "import pandas as pd\n",
    "\n",
    "import timeit\n",
    "\n",
    "def entropy1(labels, base=None):\n",
    "  value,counts = np.unique(labels, return_counts=True)\n",
    "  return entropy(counts, base=base)\n",
    "\n",
    "def entropy2(labels, base=None):\n",
    "  \"\"\" Computes entropy of label distribution. \"\"\"\n",
    "\n",
    "  n_labels = len(labels)\n",
    "\n",
    "  if n_labels <= 1:\n",
    "    return 0\n",
    "\n",
    "  value,counts = np.unique(labels, return_counts=True)\n",
    "  probs = counts / n_labels\n",
    "  n_classes = np.count_nonzero(probs)\n",
    "\n",
    "  if n_classes <= 1:\n",
    "    return 0\n",
    "\n",
    "  ent = 0.\n",
    "\n",
    "  # Compute entropy\n",
    "  base = e if base is None else base\n",
    "  for i in probs:\n",
    "    ent -= i * log(i, base)\n",
    "\n",
    "  return ent\n",
    "\n",
    "def entropy3(labels, base=None):\n",
    "  vc = pd.Series(labels).value_counts(normalize=True, sort=False)\n",
    "  base = e if base is None else base\n",
    "  return -(vc * np.log(vc)/np.log(base)).sum()\n",
    "\n",
    "def entropy4(labels, base=None):\n",
    "  value,counts = np.unique(labels, return_counts=True)\n",
    "  norm_counts = counts / counts.sum()\n",
    "  base = e if base is None else base\n",
    "  return -(norm_counts * np.log(norm_counts)/np.log(base)).sum()\n"
   ]
  },
  {
   "cell_type": "code",
   "execution_count": 2,
   "id": "c5dbc976-57da-4cab-a627-9edea050de7c",
   "metadata": {},
   "outputs": [
    {
     "name": "stdout",
     "output_type": "stream",
     "text": [
      "1.5171063970610277\n",
      "1.5171063970610277\n",
      "1.5171063970610277\n",
      "1.5171063970610277\n"
     ]
    }
   ],
   "source": [
    "labels = [1,3,5,2,3,5,3,2,1,3,4,5]\n",
    "\n",
    "print(entropy1(labels))\n",
    "print(entropy2(labels))\n",
    "print(entropy3(labels))\n",
    "print(entropy4(labels))"
   ]
  },
  {
   "cell_type": "code",
   "execution_count": null,
   "id": "a18ef649-b6ea-45f4-8c4c-af1f0e587972",
   "metadata": {},
   "outputs": [],
   "source": [
    "# Entropy for continuous entropy"
   ]
  },
  {
   "cell_type": "code",
   "execution_count": 8,
   "id": "305b6eee-f076-4e3e-b136-2547bc255178",
   "metadata": {},
   "outputs": [],
   "source": [
    "import numpy as np\n",
    "from scipy.stats import differential_entropy, norm\n",
    "from matplotlib import pyplot"
   ]
  },
  {
   "cell_type": "code",
   "execution_count": 70,
   "id": "80f197cc-64d7-4216-9f03-9efff9bfa1a7",
   "metadata": {},
   "outputs": [],
   "source": [
    "rng = np.random.default_rng()"
   ]
  },
  {
   "cell_type": "code",
   "execution_count": 71,
   "id": "47ac5182-af7a-4e67-8119-8c4e2438c414",
   "metadata": {},
   "outputs": [],
   "source": [
    "values = rng.normal(0, 0.5, 100)"
   ]
  },
  {
   "cell_type": "code",
   "execution_count": 72,
   "id": "89184195-7dbd-4740-9a80-b72e9ea24b8a",
   "metadata": {},
   "outputs": [
    {
     "data": {
      "image/png": "[encoded data removed]",
      "text/plain": [
       "<Figure size 640x480 with 1 Axes>"
      ]
     },
     "metadata": {},
     "output_type": "display_data"
    }
   ],
   "source": [
    "pyplot.hist(values, 25, density = 1,  color ='green', alpha = 0.7, range=[-5,5])\n",
    "pyplot.show() "
   ]
  },
  {
   "cell_type": "code",
   "execution_count": 73,
   "id": "be820f5c-9179-4809-90a8-a2406ccdc1d9",
   "metadata": {},
   "outputs": [
    {
     "data": {
      "text/plain": [
       "0.6791177121549293"
      ]
     },
     "execution_count": 73,
     "metadata": {},
     "output_type": "execute_result"
    }
   ],
   "source": [
    "differential_entropy(values)"
   ]
  },
  {
   "cell_type": "code",
   "execution_count": 74,
   "id": "0ffaf7f4-53a7-4113-a000-9f826854eebf",
   "metadata": {},
   "outputs": [],
   "source": [
    "values = rng.normal(0, 2, 100)"
   ]
  },
  {
   "cell_type": "code",
   "execution_count": 75,
   "id": "c2865023-376c-423d-a4bf-295fe3e4f0f5",
   "metadata": {},
   "outputs": [
    {
     "data": {
      "image/png": "[encoded data removed]",
      "text/plain": [
       "<Figure size 640x480 with 1 Axes>"
      ]
     },
     "metadata": {},
     "output_type": "display_data"
    }
   ],
   "source": [
    "pyplot.hist(values, 25, density = 1,  color ='green', alpha = 0.7)\n",
    "pyplot.show() "
   ]
  },
  {
   "cell_type": "code",
   "execution_count": 66,
   "id": "dd613b25-b0f4-4094-b6db-3c54e99097c2",
   "metadata": {},
   "outputs": [
    {
     "data": {
      "text/plain": [
       "2.08319586885366"
      ]
     },
     "execution_count": 66,
     "metadata": {},
     "output_type": "execute_result"
    }
   ],
   "source": [
    "differential_entropy(values)"
   ]
  },
  {
   "cell_type": "code",
   "execution_count": 58,
   "id": "b3842252-e4f6-4b98-a027-f2f30f720bf2",
   "metadata": {},
   "outputs": [],
   "source": [
    "# higher entropy means more chaotic system"
   ]
  },
  {
   "cell_type": "code",
   "execution_count": 67,
   "id": "81bc9a29-bdc5-45f3-905e-6e5f3e7e7928",
   "metadata": {},
   "outputs": [],
   "source": [
    "# for 2d - nd arraies"
   ]
  },
  {
   "cell_type": "code",
   "execution_count": 88,
   "id": "dd55d03e-97ee-47c0-9c8d-932b15eb2ff1",
   "metadata": {},
   "outputs": [],
   "source": [
    "#define two probability distributions\n",
    "P = [.05, .1, .2, .05, .15, .25, .08, .12]\n",
    "Q = [.3, .1, .2, .1, .1, .02, .08, .1]"
   ]
  },
  {
   "cell_type": "code",
   "execution_count": 89,
   "id": "b6159be1-1d7e-4ea6-aefe-6b994b0443d8",
   "metadata": {},
   "outputs": [
    {
     "data": {
      "text/plain": [
       "0.589885181619163"
      ]
     },
     "execution_count": 89,
     "metadata": {},
     "output_type": "execute_result"
    }
   ],
   "source": [
    "from scipy.special import rel_entr\n",
    "\n",
    "#calculate (P || Q)\n",
    "sum(rel_entr(P, Q))"
   ]
  },
  {
   "cell_type": "code",
   "execution_count": 90,
   "id": "f19d6fef-566b-4097-a3c3-e18d7647fc2b",
   "metadata": {},
   "outputs": [
    {
     "data": {
      "text/plain": [
       "array([-0.08958797,  0.        ,  0.        , -0.03465736,  0.06081977,\n",
       "        0.63143216,  0.        ,  0.02187859])"
      ]
     },
     "execution_count": 90,
     "metadata": {},
     "output_type": "execute_result"
    }
   ],
   "source": [
    "rel_entr(P, Q)"
   ]
  },
  {
   "cell_type": "code",
   "execution_count": 94,
   "id": "2727c60a-a1aa-4d70-8f6f-c28f24b29176",
   "metadata": {},
   "outputs": [],
   "source": [
    "P = [[1,1],[2,2]]\n",
    "Q = [[1,1], [2,3]]"
   ]
  },
  {
   "cell_type": "code",
   "execution_count": 95,
   "id": "e33fa9c8-8a8f-4812-8957-36710faabb43",
   "metadata": {},
   "outputs": [
    {
     "data": {
      "text/plain": [
       "array([ 0.        , -0.81093022])"
      ]
     },
     "execution_count": 95,
     "metadata": {},
     "output_type": "execute_result"
    }
   ],
   "source": [
    "sum(rel_entr(P, Q))"
   ]
  },
  {
   "cell_type": "code",
   "execution_count": 96,
   "id": "5a2e6e05-0c9b-4683-a4a2-7fa644bbaa85",
   "metadata": {},
   "outputs": [
    {
     "data": {
      "text/plain": [
       "array([[ 0.        ,  0.        ],\n",
       "       [ 0.        , -0.81093022]])"
      ]
     },
     "execution_count": 96,
     "metadata": {},
     "output_type": "execute_result"
    }
   ],
   "source": [
    "rel_entr(P, Q)"
   ]
  },
  {
   "cell_type": "code",
   "execution_count": 32,
   "id": "7bb744b8-589d-4057-9555-61d78eb1c1d4",
   "metadata": {},
   "outputs": [],
   "source": [
    "a = [1.10, 1.11, 1.05, 1.21, 1.01, 4.4, -7.2, 5.2, 1.56, -3.4]"
   ]
  },
  {
   "cell_type": "code",
   "execution_count": 33,
   "id": "f8d43da6-c553-40f6-8675-cca4a102f24e",
   "metadata": {},
   "outputs": [],
   "source": [
    "a1 = [1.10, 1.11, 1.05, 1.21, 1.01]\n",
    "a2 = [4.4, -7.2, 5.2, 1.56, -3.4]"
   ]
  },
  {
   "cell_type": "code",
   "execution_count": 34,
   "id": "d521e3c1-618c-4f9c-a27e-f64ce8c6ab26",
   "metadata": {},
   "outputs": [
    {
     "data": {
      "text/plain": [
       "1.6114359749054774"
      ]
     },
     "execution_count": 34,
     "metadata": {},
     "output_type": "execute_result"
    }
   ],
   "source": [
    "differential_entropy(a)"
   ]
  },
  {
   "cell_type": "code",
   "execution_count": 35,
   "id": "7d0e42fa-f98a-4da8-a375-11b1fc536e1d",
   "metadata": {},
   "outputs": [
    {
     "data": {
      "text/plain": [
       "-1.1928770795338761"
      ]
     },
     "execution_count": 35,
     "metadata": {},
     "output_type": "execute_result"
    }
   ],
   "source": [
    "differential_entropy(a1)"
   ]
  },
  {
   "cell_type": "code",
   "execution_count": 36,
   "id": "4922aac4-bdbd-4f6e-8f45-1e6f1565b622",
   "metadata": {},
   "outputs": [
    {
     "data": {
      "text/plain": [
       "3.122101106764165"
      ]
     },
     "execution_count": 36,
     "metadata": {},
     "output_type": "execute_result"
    }
   ],
   "source": [
    "differential_entropy(a2)"
   ]
  },
  {
   "cell_type": "code",
   "execution_count": null,
   "id": "9fa5c41e-b177-447e-847e-e98aac36fd02",
   "metadata": {},
   "outputs": [],
   "source": []
  }
 ],
 "metadata": {
  "kernelspec": {
   "display_name": "Python 3 (ipykernel)",
   "language": "python",
   "name": "python3"
  },
  "language_info": {
   "codemirror_mode": {
    "name": "ipython",
    "version": 3
   },
   "file_extension": ".py",
   "mimetype": "text/x-python",
   "name": "python",
   "nbconvert_exporter": "python",
   "pygments_lexer": "ipython3",
   "version": "3.7.16"
  }
 },
 "nbformat": 4,
 "nbformat_minor": 5
}
